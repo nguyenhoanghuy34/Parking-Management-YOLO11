{
 "cells": [
  {
   "cell_type": "markdown",
   "id": "f16debdc",
   "metadata": {},
   "source": [
    "### Parking Lot Management Using Ultralytics YOLO11 🚀\n",
    "\n",
    "### What is a Parking Management System?\n",
    "\n",
    "A parking management system helps **ensure safe and efficient parking** by:\n",
    "\n",
    "- Organizing parking spaces effectively\n",
    "- Monitoring the availability of each spot\n",
    "\n",
    "### YOLO11 Applications in Parking Management\n",
    "\n",
    "**Ultralytics YOLO11** can enhance parking lot management through:\n",
    "\n",
    "- **Real-time vehicle detection**\n",
    "- **Providing detailed information** on parking lot usage\n",
    "- **Optimizing space allocation** and reducing the time to find an empty spot\n"
   ]
  },
  {
   "cell_type": "markdown",
   "id": "03892dd3",
   "metadata": {},
   "source": [
    "### Real-World Applications\n",
    "\n",
    "<table>\n",
    "  <tr>\n",
    "    <td align=\"center\">\n",
    "      <img src=\"https://github.com/ultralytics/docs/releases/download/0/parking-management-aerial-view-ultralytics-yolov8.avif\" alt=\"Parking Lot Detection 1\" width=\"300\"><br>\n",
    "      Parking Lot Detection - Example 1\n",
    "    </td>\n",
    "    <td align=\"center\">\n",
    "      <img src=\"https://github.com/ultralytics/docs/releases/download/0/parking-management-top-view-ultralytics-yolov8.avif\" alt=\"Parking Lot Detection 2\" width=\"300\"><br>\n",
    "      Parking Lot Detection - Example 2\n",
    "    </td>\n",
    "  </tr>\n",
    "</table>\n"
   ]
  },
  {
   "cell_type": "code",
   "execution_count": null,
   "id": "4838b030",
   "metadata": {},
   "outputs": [],
   "source": []
  }
 ],
 "metadata": {
  "kernelspec": {
   "display_name": "Python 3",
   "language": "python",
   "name": "python3"
  },
  "language_info": {
   "codemirror_mode": {
    "name": "ipython",
    "version": 3
   },
   "file_extension": ".py",
   "mimetype": "text/x-python",
   "name": "python",
   "nbconvert_exporter": "python",
   "pygments_lexer": "ipython3",
   "version": "3.13.2"
  }
 },
 "nbformat": 4,
 "nbformat_minor": 5
}
